{
 "cells": [
  {
   "cell_type": "code",
   "execution_count": 9,
   "id": "48fd5be5",
   "metadata": {},
   "outputs": [
    {
     "name": "stdout",
     "output_type": "stream",
     "text": [
      "else\n"
     ]
    }
   ],
   "source": [
    "import numpy as np\n",
    "import sys\n",
    "import argparse\n",
    "\n",
    "#parser = argparse.ArgumentParser()\n",
    "#parser.add_argument(\"-i\", \"--input\", required=True, help='input file // FORMAT --> Maestro MSV export format compiled with break')\n",
    "#parser.add_argument(\"-o\", \"--output\", required=True, help='output file')\n",
    "#args = parser.parse_args()\n",
    "\n",
    "file = open(\"test2.txt\",'r')\n",
    "\n",
    "file_list = list(file)\n",
    "#line = list(file)[0]\n",
    "#print(line.strip('\\n'))\n",
    "\n",
    "#len(file_list)\n",
    "\n",
    "number_of_lines = np.arange(0,len(file_list),1)\n",
    "new_file_list = []\n",
    "for i in number_of_lines:\n",
    "    one_line = file_list[i]\n",
    "    new_file_list.append(one_line.strip('\\n'))\n",
    "\n",
    "newList = [element for item in new_file_list for element in item.split(',')]\n",
    "\n",
    "if file_list[2]=='\\n':\n",
    "    accesion_numbers = newList[::13]\n",
    "    seq_1s = newList[4::13]\n",
    "    seq_2s = newList[7::13]\n",
    "    seq_3s = newList[10::13]\n",
    "    print('if')\n",
    "else:\n",
    "    accesion_numbers = newList[::9]\n",
    "    seq_1s = newList[3::9]\n",
    "    seq_2s = newList[5::9]\n",
    "    seq_3s = newList[7::9]\n",
    "    print('else')\n",
    "\n",
    "#IF YOU WANT TO ADD EVEN MORE SEQUENCES HERE YOU NEED TO ADJUST THE NUMBERS IN THE BRACKETS I.E. [4::13]\n",
    "\n",
    "ac_list_of_nums = np.arange(0,len(accesion_numbers),1)\n",
    "for i in ac_list_of_nums:\n",
    "    exec('acn_%s = accesion_numbers[%s]' %(i,i))\n",
    "\n",
    "seq1_list_of_nums = np.arange(0,len(seq_1s),1)\n",
    "for i in seq1_list_of_nums:\n",
    "    exec('sq1_%s = seq_1s[%s]' %(i,i))\n",
    "\n",
    "seq2_list_of_nums = np.arange(0,len(seq_2s),1)\n",
    "for i in seq2_list_of_nums:\n",
    "    exec('sq2_%s = seq_2s[%s]' %(i,i))\n",
    "    \n",
    "seq3_list_of_nums = np.arange(0,len(seq_3s),1)\n",
    "for i in seq3_list_of_nums:\n",
    "    exec('sq3_%s = seq_3s[%s]' %(i,i))"
   ]
  },
  {
   "cell_type": "code",
   "execution_count": 10,
   "id": "c944ca8c",
   "metadata": {},
   "outputs": [
    {
     "name": "stdout",
     "output_type": "stream",
     "text": [
      "['3ODU_A', '3PBL_A', '3RZE_A']\n",
      "[' TVGLVVMKLRSMTDRDRAASRKQKKATLCPILYAL', ' ALQTTTNYRYTQSCVREKAMNIEFK', ' KLTGNIDRRSVQPRRIREKAAQYNENF']\n",
      "[' FLGVVVLKLRSMTDLDRAASRKKKKAMVCPIIYFL', ' ALQTTTNYRYTYSKVKEKAMNIEFK', ' RLNTNIDRCAVDPRVILKQVWGEEEPQ']\n",
      "[' FLGVVVLKLRSMTDLDRAASRKKKKAMVCPIIYFL', ' ALQTTTNYRYTYSKVKEKAMNIEFK', ' RLNTNIDRCAVDPRVILKQVWGEEEPQ']\n"
     ]
    }
   ],
   "source": [
    "print(accesion_numbers)\n",
    "print(seq_1s)\n",
    "print(seq_2s)\n",
    "print(seq_3s)"
   ]
  },
  {
   "cell_type": "code",
   "execution_count": 42,
   "id": "e215a21d",
   "metadata": {},
   "outputs": [],
   "source": [
    "#Needs further adjustments\n",
    "\n",
    "for i in seq1_list_of_nums:\n",
    "    exec('a_%s = []' %(i))\n",
    "    exec('for res in sq1_%s: a_%s.append(res)' %(i,i))\n",
    "    exec('nirAltina_%s = []' %(i))\n",
    "    exec('nirMillium_%s = []' %(i))\n",
    "    exec('list1_%s = np.arange(len(a_%s))' %(i,i))\n",
    "\n",
    "for i in seq2_list_of_nums:\n",
    "    exec('b_%s = []' %(i))\n",
    "    exec('for res in sq2_%s: b_%s.append(res)' %(i,i))\n",
    "    exec('list2_%s = np.arange(len(b_%s))' %(i,i))\n",
    "\n",
    "for i in seq3_list_of_nums:\n",
    "    exec('c_%s = []' %(i))\n",
    "    exec('for res in sq3_%s: c_%s.append(res)' %(i,i))\n",
    "    exec('list3_%s = np.arange(len(c_%s))' %(i,i))    \n",
    "    \n",
    "def altina_orion(list1or2_x, nirAltina_x, a, b, j):\n",
    "    for j in list1or2_x:\n",
    "        if a[j] != b[j]:\n",
    "            nirAltina_x.append(j)\n",
    "for i in seq1_list_of_nums:\n",
    "    exec('altina_orion(list1_%s, nirAltina_%s, a_%s, b_%s, %s)' %(i,i,i,i,i))\n",
    "    \n",
    "def millium_orion(list1or2_x, nirMillium_x, a, b, j):\n",
    "    for j in list1or2_x:\n",
    "        if a[j] != b[j]:\n",
    "            nirMillium_x.append(j)\n",
    "for i in seq1_list_of_nums:\n",
    "    exec('millium_orion(list1_%s, nirMillium_%s, a_%s, c_%s, %s)' %(i,i,i,i,i))\n",
    "    \n",
    "Claimh_Solais = open(\"1v2.txt\",\"w+\")\n",
    "breakvar = \"\\n\"\n",
    "for i in seq1_list_of_nums:\n",
    "    exec('Claimh_Solais.write(str(acn_%s)+\" \"+str(len(nirAltina_%s))+breakvar)'%(i,i))\n",
    "    Claimh_Solais.close\n",
    "    \n",
    "Airgetlam = open(\"1v3.txt\",\"w+\")\n",
    "breakvar = \"\\n\"\n",
    "for i in seq1_list_of_nums:\n",
    "    exec('Airgetlam.write(str(acn_%s)+\" \"+str(len(nirMillium_%s))+breakvar)'%(i,i))\n",
    "    Airgetlam.close"
   ]
  },
  {
   "cell_type": "code",
   "execution_count": 41,
   "id": "9fa4d246",
   "metadata": {},
   "outputs": [],
   "source": []
  },
  {
   "cell_type": "code",
   "execution_count": null,
   "id": "1f1d2528",
   "metadata": {},
   "outputs": [],
   "source": []
  }
 ],
 "metadata": {
  "kernelspec": {
   "display_name": "Python 3",
   "language": "python",
   "name": "python3"
  },
  "language_info": {
   "codemirror_mode": {
    "name": "ipython",
    "version": 3
   },
   "file_extension": ".py",
   "mimetype": "text/x-python",
   "name": "python",
   "nbconvert_exporter": "python",
   "pygments_lexer": "ipython3",
   "version": "3.9.13"
  }
 },
 "nbformat": 4,
 "nbformat_minor": 5
}
